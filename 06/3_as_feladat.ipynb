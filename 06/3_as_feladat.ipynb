{
  "nbformat": 4,
  "nbformat_minor": 0,
  "metadata": {
    "colab": {
      "provenance": [],
      "authorship_tag": "ABX9TyOeeRExCTs2/TZwW2PhILOS",
      "include_colab_link": true
    },
    "kernelspec": {
      "name": "python3",
      "display_name": "Python 3"
    },
    "language_info": {
      "name": "python"
    }
  },
  "cells": [
    {
      "cell_type": "markdown",
      "metadata": {
        "id": "view-in-github",
        "colab_type": "text"
      },
      "source": [
        "<a href=\"https://colab.research.google.com/github/karsarobert/DeepLearning2024/blob/main/06/3_as_feladat.ipynb\" target=\"_parent\"><img src=\"https://colab.research.google.com/assets/colab-badge.svg\" alt=\"Open In Colab\"/></a>"
      ]
    },
    {
      "cell_type": "markdown",
      "source": [
        "Feladat: Anomália detektálás hitelkártya tranzakciókban (Bináris osztályozás - autoencoderrel)\n",
        "\n",
        "Adatkészlet: Hitelkártya tranzakciós adatok (szintetikus vagy nyilvánosan elérhető, pl. Kaggle-ről), ahol a kisebbségi osztály a csalárd tranzakciók.\n",
        "\n",
        "Feladatleírás: A cél egy olyan modell létrehozása, amely képes azonosítani a gyanús tranzakciókat. Ebben a feladatban egy autoencodert használunk a normál tranzakciók megtanulására, és a nagy rekonstrukciós hibával rendelkező tranzakciókat anomáliaként jelöljük meg.\n",
        "\n",
        "Megoldás:\n",
        "\n",
        "Adatok beolvasása és előkészítése (normalizálás, a normál tranzakciók elkülönítése a tréninghez).\n",
        "\n",
        "Autoencoder modell építése sűrű rétegekkel és ReLU aktivációval. A kódoló és dekódoló rész szimmetrikus legyen.\n",
        "\n",
        "Modell kompilálása 'adam' optimalizálóval és 'mse' loss függvénnyel.\n",
        "\n",
        "Autoencoder illesztése a normál tranzakciókra.\n",
        "\n",
        "Rekonstrukciós hiba küszöbértékének meghatározása a normál tranzakciókon.\n",
        "\n",
        "Teljes teszthalmaz (normál és anomáliás tranzakciók) rekonstrukciója.\n",
        "\n",
        "Anomáliák detektálása a küszöbérték alapján.\n",
        "\n",
        "Modell kiértékelése (pontosság, precision, recall)."
      ],
      "metadata": {
        "id": "bdgK7o2o9sx5"
      }
    },
    {
      "cell_type": "code",
      "execution_count": null,
      "metadata": {
        "id": "c5D6Esr-q5u5"
      },
      "outputs": [],
      "source": [
        "import numpy as np\n",
        "import pandas as pd\n",
        "import matplotlib.pyplot as plt\n",
        "from sklearn.model_selection import train_test_split\n",
        "from sklearn.preprocessing import StandardScaler, MinMaxScaler\n",
        "from sklearn.decomposition import PCA\n",
        "from tensorflow import keras\n",
        "from tensorflow.keras import layers, regularizers\n",
        "from keras.models import Model\n",
        "\n",
        "\n",
        "# --- Adatok generálása ---\n",
        "\n",
        "# Véletlenszerű adatok generálása (szintetikus bankkártya tranzakciók)\n",
        "np.random.seed(42)  # Reprodukálhatóság miatt\n",
        "n_samples = 1000\n",
        "n_features = 5  # Pl.: összeg, időpont, helyszín (kódolva), kereskedő (kódolva), tranzakció típusa (kódolva)\n",
        "\n",
        "normal_transactions = np.random.rand(n_samples, n_features) * 10  # Normál tranzakciók\n",
        "fraudulent_transactions = np.random.rand(int(n_samples * 0.05), n_features) * 10 + 5 # Csalások, kicsit eltolva az értékek\n",
        "\n",
        "data = np.concatenate([normal_transactions, fraudulent_transactions])\n",
        "labels = np.array([0] * len(normal_transactions) + [1] * len(fraudulent_transactions))"
      ]
    }
  ]
}
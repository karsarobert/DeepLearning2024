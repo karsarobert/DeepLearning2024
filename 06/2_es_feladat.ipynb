{
  "nbformat": 4,
  "nbformat_minor": 0,
  "metadata": {
    "colab": {
      "provenance": [],
      "authorship_tag": "ABX9TyPW582uAAzgHuaZWxC8vlBp",
      "include_colab_link": true
    },
    "kernelspec": {
      "name": "python3",
      "display_name": "Python 3"
    },
    "language_info": {
      "name": "python"
    }
  },
  "cells": [
    {
      "cell_type": "markdown",
      "metadata": {
        "id": "view-in-github",
        "colab_type": "text"
      },
      "source": [
        "<a href=\"https://colab.research.google.com/github/karsarobert/DeepLearning2024/blob/main/06/2_es_feladat.ipynb\" target=\"_parent\"><img src=\"https://colab.research.google.com/assets/colab-badge.svg\" alt=\"Open In Colab\"/></a>"
      ]
    },
    {
      "cell_type": "markdown",
      "source": [
        "Feladat: Kézzel írott számjegyek felismerése (Többosztályos osztályozás)\n",
        "Adatkészlet: MNIST dataset (Keras-ból importálható)\n",
        "\n",
        "Feladatleírás: A cél egy olyan modell létrehozása, amely képes felismerni kézzel írott számjegyeket (0-9).\n",
        "\n",
        "Megoldás:\n",
        "\n",
        "Adatok beolvasása és előkészítése (normalizálás, felosztás tréning/teszt halmazokra, one-hot kódolás a címkéken).\n",
        "\n",
        "Osztályozó modell építése sűrű rétegekkel és ReLU aktivációval. Kimeneti rétegben softmax aktiváció és annyi neuron, ahány osztály van (10).\n",
        "\n",
        "Modell kompilálása 'adam' optimalizálóval és 'categorical_crossentropy' loss függvénnyel, 'accuracy' metrikával.\n",
        "\n",
        "Modell illesztése a tréning adatokra, validáció a teszt halmazon, korai leállítással.\n",
        "\n",
        "Tanulási görbék ábrázolása és kiértékelése.\n",
        "\n",
        "Előrejelzés új képeken."
      ],
      "metadata": {
        "id": "m2IwPG-diRzW"
      }
    },
    {
      "cell_type": "code",
      "execution_count": null,
      "metadata": {
        "id": "PNBdAvJviRIn"
      },
      "outputs": [],
      "source": [
        "import tensorflow as tf\n",
        "from tensorflow import keras\n",
        "from tensorflow.keras import layers, callbacks\n",
        "from sklearn.model_selection import train_test_split\n",
        "import pandas as pd\n",
        "\n",
        "# Adatok betöltése és előkészítése\n",
        "(X_train, y_train), (X_test, y_test) = keras.datasets.mnist.load_data()"
      ]
    }
  ]
}
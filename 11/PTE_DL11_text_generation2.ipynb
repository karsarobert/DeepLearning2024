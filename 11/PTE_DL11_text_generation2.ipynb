{
  "cells": [
    {
      "cell_type": "markdown",
      "metadata": {
        "id": "view-in-github",
        "colab_type": "text"
      },
      "source": [
        "<a href=\"https://colab.research.google.com/github/karsarobert/DeepLearning2024/blob/main/11/PTE_DL11_text_generation2.ipynb\" target=\"_parent\"><img src=\"https://colab.research.google.com/assets/colab-badge.svg\" alt=\"Open In Colab\"/></a>"
      ]
    },
    {
      "cell_type": "markdown",
      "metadata": {
        "id": "t09eeeR5prIJ"
      },
      "source": [
        "##### Copyright 2019 The TensorFlow Authors."
      ]
    },
    {
      "cell_type": "code",
      "execution_count": null,
      "metadata": {
        "cellView": "form",
        "id": "GCCk8_dHpuNf"
      },
      "outputs": [],
      "source": [
        "#@title Licensed under the Apache License, Version 2.0 (the \"License\");\n",
        "# you may not use this file except in compliance with the License.\n",
        "# You may obtain a copy of the License at\n",
        "#\n",
        "# https://www.apache.org/licenses/LICENSE-2.0\n",
        "#\n",
        "# Unless required by applicable law or agreed to in writing, software\n",
        "# distributed under the License is distributed on an \"AS IS\" BASIS,\n",
        "# WITHOUT WARRANTIES OR CONDITIONS OF ANY KIND, either express or implied.\n",
        "# See the License for the specific language governing permissions and\n",
        "# limitations under the License."
      ]
    },
    {
      "cell_type": "markdown",
      "metadata": {
        "id": "ovpZyIhNIgoq"
      },
      "source": [
        "# Szöveggenerálás RNN-nel"
      ]
    },
    {
      "cell_type": "markdown",
      "metadata": {
        "id": "hcD2nPQvPOFM"
      },
      "source": [
        "<table class=\"tfo-notebook-buttons\" align=\"left\">\n",
        "  <td>\n",
        "    <a target=\"_blank\" href=\"https://www.tensorflow.org/text/tutorials/text_generation\"><img src=\"https://www.tensorflow.org/images/tf_logo_32px.png\" />View on TensorFlow.org</a>\n",
        "  </td>\n",
        "  <td>\n",
        "    <a target=\"_blank\" href=\"https://colab.research.google.com/github/tensorflow/text/blob/master/docs/tutorials/text_generation.ipynb\"><img src=\"https://www.tensorflow.org/images/colab_logo_32px.png\" />Run in Google Colab</a>\n",
        "  </td>\n",
        "  <td>\n",
        "    <a target=\"_blank\" href=\"https://github.com/tensorflow/text/blob/master/docs/tutorials/text_generation.ipynb\"><img src=\"https://www.tensorflow.org/images/GitHub-Mark-32px.png\" />View source on GitHub</a>\n",
        "  </td>\n",
        "  <td>\n",
        "    <a href=\"https://storage.googleapis.com/tensorflow_docs/text/docs/tutorials/text_generation.ipynb\"><img src=\"https://www.tensorflow.org/images/download_logo_32px.png\" />Download notebook</a>\n",
        "  </td>\n",
        "</table>"
      ]
    },
    {
      "cell_type": "markdown",
      "metadata": {
        "id": "BwpJ5IffzRG6"
      },
      "source": [
        "Ez a bemutató azt mutatja be, hogyan lehet szöveget generálni egy karakteralapú RNN segítségével. Rejtő Jenő írásaiból álló adatkészlettel fog dolgozni, amely ötlet Andrej Karpathy The Unreasonable Effectiveness of Recurrent Neural Networks című könyvéből származik. Adott egy karaktersorozat ebből az adatból, képezzünk ki egy modellt a sorozat következő karakterének (\"e\") előrejelzésére. A modell ismételt meghívásával hosszabb szövegsorozatok generálhatók.\n",
        "\n",
        "Megjegyzés: Engedélyezze a GPU-gyorsítást a notebook gyorsabb végrehajtásához. A Colab: Futtatási idő > Futtatási idő típusának módosítása > Hardveres gyorsító > GPU.\n",
        "\n",
        "A következő a mintakimenet, amikor az ebben a bemutatóban szereplő modell 30 epochán keresztül képzett, és a \"A\" felszólítással indult:"
      ]
    },
    {
      "cell_type": "markdown",
      "metadata": {
        "id": "HcygKkEVZBaa"
      },
      "source": [
        "<pre>\n",
        "An saját magaszására társal lett van a pitánsággal, könnyedéseket.\n",
        "A herceg szeme le régen is tűt. Mehes. Fülig Jimmy? Mi ajra, ha Hurcunk Fernántesz! És igen ötök boripán az találgassza, Felség, angol hibetkézik az én nevemben, azt hitte, hogy néhány óráj baj vas, hát de nem hites, előfordul egy erőtel sem mozdult. Pedig a hajón vérn A fiú uralkodásai és lenéssel az illetőkeá.\n",
        "- Hány és GrAndszervez erted?\n",
        "Így öreg Wilson Hutchins (az amerikai fűtő már csak azért sem vonállattag érezte, amelyen a pincér aztán ki történt. Fel tudum. Most már közzem (Övig nem ívás, hanem Jiment furcsa, akkor ja mokdanás, mert a brót és fél személyesen ismerem.\n",
        "- Warins a vőlegverék el - mondja a stamát... Az is a pillanatra! - jegyezte meg közölte?\n",
        "- Ezent lesz a borízsal állt. - Es osztálybal. Öngyen közt kenyeres tudja, ő a próféte megtoválját, így szólt:\n",
        "- Integessen Felség, hogy egy nap alatt sok mindent tett, embere! Hozzt, hogy nem keresem tovább vezeteti Bannera. Tevissza kelé krabitány az á\n",
        "\n",
        "</pre>"
      ]
    },
    {
      "cell_type": "markdown",
      "metadata": {
        "id": "_bGsCP9DZFQ5"
      },
      "source": [
        "Bár néhány mondat nyelvtanilag helyes, a legtöbbnek nincs értelme. A modell nem tanulta meg a szavak jelentését, de fontolja meg:\n",
        "\n",
        "* A modell karakteralapú. Amikor a képzés elkezdődött, a modell nem tudta, hogyan kell egy szót leírni, vagy hogy a szavak egyáltalán a szöveg egységei.\n",
        "\n",
        "* Amint azt az alábbiakban bemutatjuk, a modell kis szövegrészleteken (egyenként 100 karakter) tanul, és még mindig képes egy hosszabb, összefüggő szerkezetű szövegsorozatot generálni."
      ]
    },
    {
      "cell_type": "markdown",
      "metadata": {
        "id": "srXC6pLGLwS6"
      },
      "source": [
        "## Setup"
      ]
    },
    {
      "cell_type": "markdown",
      "metadata": {
        "id": "WGyKZj3bzf9p"
      },
      "source": [
        "### TensorFlow és más könyvtárak importálása"
      ]
    },
    {
      "cell_type": "code",
      "execution_count": null,
      "metadata": {
        "id": "yG_n40gFzf9s"
      },
      "outputs": [],
      "source": [
        "import tensorflow as tf\n",
        "\n",
        "import numpy as np\n",
        "import os\n",
        "import time\n",
        "\n",
        "import os\n",
        "os.environ['TF_USE_LEGACY_KERAS']='1'"
      ]
    },
    {
      "cell_type": "markdown",
      "metadata": {
        "id": "EHDoRoc5PKWz"
      },
      "source": [
        "### Az adatkészlet letöltése\n",
        "\n",
        "Változtassa meg a következő sort, hogy futtassa ezt a kódot a saját data.c fájlján."
      ]
    },
    {
      "cell_type": "code",
      "execution_count": null,
      "metadata": {
        "id": "pD_55cOxLkAb",
        "colab": {
          "base_uri": "https://localhost:8080/"
        },
        "outputId": "97b636db-c572-4d92-a5df-821810229f73"
      },
      "outputs": [
        {
          "output_type": "stream",
          "name": "stdout",
          "text": [
            "Downloading data from https://raw.githubusercontent.com/karsarobert/DeepLearning2024/main/piszkosfred.txt\n",
            "349517/349517 [==============================] - 0s 0us/step\n"
          ]
        }
      ],
      "source": [
        "#path_to_file = tf.keras.utils.get_file('shakespeare.txt', 'https://storage.googleapis.com/download.tensorflow.org/data/shakespeare.txt')\n",
        "path_to_file = tf.keras.utils.get_file('piszkosfred.txt', 'https://raw.githubusercontent.com/karsarobert/DeepLearning2024/main/piszkosfred.txt')"
      ]
    },
    {
      "cell_type": "markdown",
      "metadata": {
        "id": "UHjdCjDuSvX_"
      },
      "source": [
        "### Read the data\n",
        "\n",
        "Először nézd meg a szöveget:"
      ]
    },
    {
      "cell_type": "code",
      "execution_count": null,
      "metadata": {
        "id": "aavnuByVymwK",
        "outputId": "5f61d516-d705-48b1-f22a-92bffadfaaa1",
        "colab": {
          "base_uri": "https://localhost:8080/"
        }
      },
      "outputs": [
        {
          "output_type": "stream",
          "name": "stdout",
          "text": [
            "Length of text: 321835 characters\n"
          ]
        }
      ],
      "source": [
        "# Read, then decode for py2 compat.\n",
        "text = open(path_to_file, 'rb').read().decode(encoding='utf-8')\n",
        "# length of text is the number of characters in it\n",
        "print(f'Length of text: {len(text)} characters')"
      ]
    },
    {
      "cell_type": "code",
      "execution_count": null,
      "metadata": {
        "id": "Duhg9NrUymwO",
        "outputId": "bddedd8c-a0ad-44d9-d799-048205c5e330",
        "colab": {
          "base_uri": "https://localhost:8080/"
        }
      },
      "outputs": [
        {
          "output_type": "stream",
          "name": "stdout",
          "text": [
            "﻿\n",
            "Rejtő Jenő\n",
            "\n",
            "Piszkos Fred, a kapitány\n",
            "\n",
            "ELSŐ FEJEZET\n",
            "1\n",
            "- Uram! A késemért jöttem!\n",
            "- Hol hagyta?\n",
            "- Valami matrózban.\n",
            "- Milyen kés volt?\n",
            "- Acél. Keskeny penge, kissé hajlott. Nem látta?\n",
            "- Várjunk... Csak lassan, kérem... Milyen volt a nyele?\n",
            "- Kagyló.\n",
            "\n"
          ]
        }
      ],
      "source": [
        "# Take a look at the first 250 characters in text\n",
        "print(text[:250])"
      ]
    },
    {
      "cell_type": "code",
      "execution_count": null,
      "metadata": {
        "id": "IlCgQBRVymwR",
        "outputId": "43cfd271-e226-43a4-a170-105b5aaef760",
        "colab": {
          "base_uri": "https://localhost:8080/"
        }
      },
      "outputs": [
        {
          "output_type": "stream",
          "name": "stdout",
          "text": [
            "98 unique characters\n"
          ]
        }
      ],
      "source": [
        "# The unique characters in the file\n",
        "vocab = sorted(set(text))\n",
        "print(f'{len(vocab)} unique characters')"
      ]
    },
    {
      "cell_type": "markdown",
      "metadata": {
        "id": "rNnrKn_lL-IJ"
      },
      "source": [
        "## A szöveg feldolgozása"
      ]
    },
    {
      "cell_type": "markdown",
      "metadata": {
        "id": "LFjSVAlWzf-N"
      },
      "source": [
        "### A szöveg vektorizálása\n",
        "\n",
        "A képzés előtt a karakterláncokat numerikus ábrázolásra kell konvertálni.\n",
        "\n"
      ]
    },
    {
      "cell_type": "code",
      "source": [
        "char2idx = {u:i for i, u in enumerate(vocab)}\n",
        "idx2char = np.array(vocab)\n",
        "\n",
        "text_as_int = np.array([char2idx[c] for c in text]) #szöveget pontosabban a karaktereket számokká konvertáljuk"
      ],
      "metadata": {
        "id": "5K4pvyb_3ub3"
      },
      "execution_count": null,
      "outputs": []
    },
    {
      "cell_type": "code",
      "source": [
        "print('{')\n",
        "for char,_ in zip(char2idx, range(20)):\n",
        "    print('  {:4s}: {:3d},'.format(repr(char), char2idx[char]))\n",
        "print('  ...\\n}')"
      ],
      "metadata": {
        "colab": {
          "base_uri": "https://localhost:8080/"
        },
        "id": "oFXg1IYK4Kcw",
        "outputId": "5da7981a-695f-4f63-d8a5-43cc02cd6938"
      },
      "execution_count": null,
      "outputs": [
        {
          "output_type": "stream",
          "name": "stdout",
          "text": [
            "{\n",
            "  '\\n':   0,\n",
            "  ' ' :   1,\n",
            "  '!' :   2,\n",
            "  '(' :   3,\n",
            "  ')' :   4,\n",
            "  '*' :   5,\n",
            "  ',' :   6,\n",
            "  '-' :   7,\n",
            "  '.' :   8,\n",
            "  '0' :   9,\n",
            "  '1' :  10,\n",
            "  '2' :  11,\n",
            "  '3' :  12,\n",
            "  '4' :  13,\n",
            "  '5' :  14,\n",
            "  '6' :  15,\n",
            "  '7' :  16,\n",
            "  '8' :  17,\n",
            "  '9' :  18,\n",
            "  ':' :  19,\n",
            "  ...\n",
            "}\n"
          ]
        }
      ]
    },
    {
      "cell_type": "code",
      "source": [
        "print ('{} ---- characters mapped to int ---- > {}'.format(repr(text[:13]), text_as_int[:13]))"
      ],
      "metadata": {
        "colab": {
          "base_uri": "https://localhost:8080/"
        },
        "id": "8lZx1hAn4QAH",
        "outputId": "063ddec8-751c-43dc-8056-04bd542805fb"
      },
      "execution_count": null,
      "outputs": [
        {
          "output_type": "stream",
          "name": "stdout",
          "text": [
            "'\\ufeff\\nRejtő Jenő\\n' ---- characters mapped to int ---- > [97  0 38 51 56 66 90  1 31 51 60 90  0]\n"
          ]
        }
      ]
    },
    {
      "cell_type": "markdown",
      "metadata": {
        "id": "bbmsf23Bymwe"
      },
      "source": [
        "### A predikciós feladat"
      ]
    },
    {
      "cell_type": "markdown",
      "metadata": {
        "id": "wssHQ1oGymwe"
      },
      "source": [
        "Adott egy karakter vagy egy karaktersorozat, mi a legvalószínűbb következő karakter? Ez az a feladat, amire a modellt betanítjuk. A modell bemenete egy karaktersorozat lesz, és a modellt arra képezzük, hogy minden egyes időlépésnél megjósolja a kimenetet - a következő karaktert.\n",
        "\n",
        "Mivel az RNN-ek fenntartanak egy belső állapotot, amely a korábban látott elemektől függ, az adott pillanatig kiszámított összes karaktert figyelembe véve, mi a következő karakter?\n"
      ]
    },
    {
      "cell_type": "markdown",
      "metadata": {
        "id": "hgsVvVxnymwf"
      },
      "source": [
        "### Képzési példák és célok létrehozása\n",
        "\n",
        "Ezután ossza a szöveget példasorozatokra. Minden egyes bemeneti szekvencia a szövegből származó `seq_length` karaktereket tartalmazza.\n",
        "\n",
        "Minden egyes bemeneti szekvenciához a megfelelő célok ugyanolyan hosszúságú szöveget tartalmaznak, kivéve egy karakterrel jobbra eltolva.\n",
        "\n",
        "Tehát a szöveget `seq_length+1` hosszúságú darabokra bontjuk. Tegyük fel például, hogy a `seq_length` 4, és a szövegünk a \"Hello\". A bemeneti szekvencia a \"Hell\", a célszekvencia pedig az \"ello\" lenne.\n",
        "\n",
        "Ehhez először használjuk az `tf.data.Dataset.from_tensor_slices` függvényt, hogy a szövegvektort karakterindexek folyamává alakítsuk."
      ]
    },
    {
      "cell_type": "code",
      "source": [
        "seq_length = 100\n",
        "examples_per_epoch = len(text)//(seq_length+1)\n",
        "\n",
        "\n",
        "char_dataset = tf.data.Dataset.from_tensor_slices(text_as_int)\n",
        "\n",
        "for i in char_dataset.take(10):\n",
        "  print(idx2char[i.numpy()])"
      ],
      "metadata": {
        "colab": {
          "base_uri": "https://localhost:8080/"
        },
        "id": "M0FkvoUp4kGf",
        "outputId": "2cf2e7ca-5e72-4c1a-c2b1-a4dd8a8c6dd1"
      },
      "execution_count": null,
      "outputs": [
        {
          "output_type": "stream",
          "name": "stdout",
          "text": [
            "﻿\n",
            "\n",
            "\n",
            "R\n",
            "e\n",
            "j\n",
            "t\n",
            "ő\n",
            " \n",
            "J\n",
            "e\n"
          ]
        }
      ]
    },
    {
      "cell_type": "markdown",
      "metadata": {
        "id": "-ZSYAcQV8OGP"
      },
      "source": [
        "A \"batch\" módszerrel ezeket az egyedi karaktereket könnyen átalakíthatja a kívánt méretű szekvenciákká."
      ]
    },
    {
      "cell_type": "markdown",
      "metadata": {
        "id": "5PHW902-4oZt"
      },
      "source": [
        "Könnyebb látni, hogy mit csinál ez, ha a tokeneket visszacsatoljuk karakterláncokká:"
      ]
    },
    {
      "cell_type": "code",
      "execution_count": null,
      "metadata": {
        "id": "BpdjRO2CzOfZ",
        "outputId": "e63abc81-aca4-4ea4-a845-93c237580a3a",
        "colab": {
          "base_uri": "https://localhost:8080/"
        }
      },
      "outputs": [
        {
          "output_type": "stream",
          "name": "stdout",
          "text": [
            "'\\ufeff\\nRejtő Jenő\\n\\nPiszkos Fred, a kapitány\\n\\nELSŐ FEJEZET\\n1\\n- Uram! A késemért jöttem!\\n- Hol hagyta?\\n- Val'\n",
            "'ami matrózban.\\n- Milyen kés volt?\\n- Acél. Keskeny penge, kissé hajlott. Nem látta?\\n- Várjunk... Csak '\n",
            "'lassan, kérem... Milyen volt a nyele?\\n- Kagyló.\\n- Hány részből?\\n- Egy darabból készült.\\n- Akkor nincs'\n",
            "' baj. Megvan a kés!\\n- Hol?\\n- A hátamban.\\n- Köszönöm...\\n- Kérem... A csapos mesélte, hogy milyen szép '\n",
            "'kés van bennem. Egy darab húszcentis kagy\\xadló\\xadritkaság.\\n- Forduljon meg, kérem, hogy kivegyem...\\n- Kit'\n"
          ]
        }
      ],
      "source": [
        "sequences = char_dataset.batch(seq_length+1, drop_remainder=True)\n",
        "\n",
        "for item in sequences.take(5):\n",
        "  print(repr(''.join(idx2char[item.numpy()])))"
      ]
    },
    {
      "cell_type": "markdown",
      "metadata": {
        "id": "UbLcIPBj_mWZ"
      },
      "source": [
        "A képzéshez szükséged lesz egy `(bemenet, címke)` párokból álló adathalmazra. Ahol a `bemenet` és\n",
        "`label` szekvenciák. Minden egyes időlépésnél a bemenet az aktuális karakter, a címke pedig a következő karakter.\n",
        "\n",
        "Íme egy függvény, amely bemenetként egy szekvenciát vesz, duplikálja és eltolja azt, hogy minden egyes időlépésnél összehangolja a bemenetet és a címkét:"
      ]
    },
    {
      "cell_type": "code",
      "execution_count": null,
      "metadata": {
        "id": "9NGu-FkO_kYU"
      },
      "outputs": [],
      "source": [
        "def split_input_target(chunk):\n",
        "    input_text = chunk[:-1]\n",
        "    target_text = chunk[1:]\n",
        "    return input_text, target_text\n",
        "\n"
      ]
    },
    {
      "cell_type": "code",
      "execution_count": null,
      "metadata": {
        "id": "WxbDTJTw5u_P",
        "outputId": "f96f9c65-a5a7-4960-f0fa-ff9639559bb8",
        "colab": {
          "base_uri": "https://localhost:8080/"
        }
      },
      "outputs": [
        {
          "output_type": "execute_result",
          "data": {
            "text/plain": [
              "(['T', 'e', 'n', 's', 'o', 'r', 'f', 'l', 'o'],\n",
              " ['e', 'n', 's', 'o', 'r', 'f', 'l', 'o', 'w'])"
            ]
          },
          "metadata": {},
          "execution_count": 13
        }
      ],
      "source": [
        "split_input_target(list(\"Tensorflow\"))"
      ]
    },
    {
      "cell_type": "code",
      "execution_count": null,
      "metadata": {
        "id": "B9iKPXkw5xwa"
      },
      "outputs": [],
      "source": [
        "dataset = sequences.map(split_input_target)"
      ]
    },
    {
      "cell_type": "code",
      "execution_count": null,
      "metadata": {
        "id": "GNbw-iR0ymwj",
        "outputId": "de27f275-ce3a-42e5-cacf-294b08e65119",
        "colab": {
          "base_uri": "https://localhost:8080/"
        }
      },
      "outputs": [
        {
          "output_type": "stream",
          "name": "stdout",
          "text": [
            "Input data:  '\\ufeff\\nRejtő Jenő\\n\\nPiszkos Fred, a kapitány\\n\\nELSŐ FEJEZET\\n1\\n- Uram! A késemért jöttem!\\n- Hol hagyta?\\n- Va'\n",
            "Target data: '\\nRejtő Jenő\\n\\nPiszkos Fred, a kapitány\\n\\nELSŐ FEJEZET\\n1\\n- Uram! A késemért jöttem!\\n- Hol hagyta?\\n- Val'\n"
          ]
        }
      ],
      "source": [
        "for input_example, target_example in  dataset.take(1):\n",
        "  print ('Input data: ', repr(''.join(idx2char[input_example.numpy()])))\n",
        "  print ('Target data:', repr(''.join(idx2char[target_example.numpy()])))"
      ]
    },
    {
      "cell_type": "markdown",
      "metadata": {
        "id": "MJdfPmdqzf-R"
      },
      "source": [
        "### Képzési tételek létrehozása\n",
        "\n",
        "Az `tf.data` segítségével a szöveget kezelhető szekvenciákra osztotta. Mielőtt azonban ezeket az adatokat betáplálnád a modellbe, meg kell keverned az adatokat, és kötegekbe kell csomagolnod őket."
      ]
    },
    {
      "cell_type": "code",
      "source": [
        "for i, (input_idx, target_idx) in enumerate(zip(input_example[:5], target_example[:5])):\n",
        "    print(\"Step {:4d}\".format(i))\n",
        "    print(\"  input: {} ({:s})\".format(input_idx, repr(idx2char[input_idx])))\n",
        "    print(\"  expected output: {} ({:s})\".format(target_idx, repr(idx2char[target_idx])))"
      ],
      "metadata": {
        "colab": {
          "base_uri": "https://localhost:8080/"
        },
        "id": "TWF7i3kO5exu",
        "outputId": "76c2c3b1-156d-4e09-e254-d11517fd2080"
      },
      "execution_count": null,
      "outputs": [
        {
          "output_type": "stream",
          "name": "stdout",
          "text": [
            "Step    0\n",
            "  input: 97 ('\\ufeff')\n",
            "  expected output: 0 ('\\n')\n",
            "Step    1\n",
            "  input: 0 ('\\n')\n",
            "  expected output: 38 ('R')\n",
            "Step    2\n",
            "  input: 38 ('R')\n",
            "  expected output: 51 ('e')\n",
            "Step    3\n",
            "  input: 51 ('e')\n",
            "  expected output: 56 ('j')\n",
            "Step    4\n",
            "  input: 56 ('j')\n",
            "  expected output: 66 ('t')\n"
          ]
        }
      ]
    },
    {
      "cell_type": "code",
      "execution_count": null,
      "metadata": {
        "id": "p2pGotuNzf-S",
        "outputId": "0b17f1db-fa6f-4b7c-f60c-d50d20545f12",
        "colab": {
          "base_uri": "https://localhost:8080/"
        }
      },
      "outputs": [
        {
          "output_type": "execute_result",
          "data": {
            "text/plain": [
              "<_BatchDataset element_spec=(TensorSpec(shape=(64, 100), dtype=tf.int64, name=None), TensorSpec(shape=(64, 100), dtype=tf.int64, name=None))>"
            ]
          },
          "metadata": {},
          "execution_count": 17
        }
      ],
      "source": [
        "BATCH_SIZE = 64\n",
        "BUFFER_SIZE = 10000 #A dataset keveréséhez használt puffer mérete. Minél nagyobb a puffer, annál véletlenszerűbben keverhető az adathalmaz. Segít megelőzni, hogy a modell sorrendiséget tanuljon meg.\n",
        "dataset = dataset.shuffle(BUFFER_SIZE).batch(BATCH_SIZE, drop_remainder=True)\n",
        "\n",
        "dataset"
      ]
    },
    {
      "cell_type": "markdown",
      "metadata": {
        "id": "r6oUuElIMgVx"
      },
      "source": [
        "## A modell megépítése"
      ]
    },
    {
      "cell_type": "markdown",
      "metadata": {
        "id": "m8gPwEjRzf-Z"
      },
      "source": [
        "Ez a szakasz a modellt a `keras.Model` alosztályként definiálja (A részletekért lásd [Új rétegek és modellek létrehozása alosztályozással](https://www.tensorflow.org/guide/keras/custom_layers_and_models)).\n",
        "\n",
        "Ez a modell három réteggel rendelkezik:\n",
        "\n",
        "* `tf.keras.layers.Embedding`: A bemeneti réteg. Egy betanítható keresőtábla, amely minden karakterazonosítót egy `embedding_dim` dimenziójú vektorra képez le;\n",
        "* `tf.keras.layers.GRU`: Egyfajta RNN, amelynek mérete `units=rnn_units` (Itt egy LSTM réteget is használhatsz.)\n",
        "* `tf.keras.layers.Dense`: A kimeneti réteg, `vocab_size` kimenetekkel. A szókészlet minden egyes karakterére egy logaritást ad ki. Ezek az egyes karakterek log-valószínűségét adják meg a modell szerint."
      ]
    },
    {
      "cell_type": "code",
      "execution_count": null,
      "metadata": {
        "id": "zHT8cLh7EAsg"
      },
      "outputs": [],
      "source": [
        "# Length of the vocabulary in StringLookup Layer\n",
        "vocab_size = len(vocab)\n",
        "\n",
        "# The embedding dimension\n",
        "embedding_dim = 256\n",
        "\n",
        "# Number of RNN units\n",
        "rnn_units = 1024"
      ]
    },
    {
      "cell_type": "code",
      "source": [
        "def build_model(vocab_size, embedding_dim, rnn_units, batch_size):\n",
        "\n",
        "    model = tf.keras.Sequential([\n",
        "    tf.keras.layers.Embedding(vocab_size, embedding_dim,batch_input_shape=[batch_size, None]),\n",
        "    tf.keras.layers.GRU(rnn_units,return_sequences=True,stateful=True,recurrent_initializer='glorot_uniform'),\n",
        "    tf.keras.layers.Dense(vocab_size)\n",
        "  ])\n",
        "    return model\n",
        "\n",
        "#Ez a kaggleről van"
      ],
      "metadata": {
        "id": "zvD-583W_QnF"
      },
      "execution_count": null,
      "outputs": []
    },
    {
      "cell_type": "code",
      "execution_count": null,
      "metadata": {
        "id": "IX58Xj9z47Aw"
      },
      "outputs": [],
      "source": [
        "model = build_model(vocab_size=vocab_size,\n",
        "    embedding_dim=embedding_dim,\n",
        "    rnn_units=rnn_units, batch_size=BATCH_SIZE)"
      ]
    },
    {
      "cell_type": "code",
      "source": [],
      "metadata": {
        "id": "NYIyUAXf8k-h"
      },
      "execution_count": null,
      "outputs": []
    },
    {
      "cell_type": "code",
      "source": [
        "model.summary()"
      ],
      "metadata": {
        "colab": {
          "base_uri": "https://localhost:8080/"
        },
        "id": "M9uGL7MH6Te3",
        "outputId": "99535f87-0de0-4447-ccac-a9ecc0e8be7d"
      },
      "execution_count": null,
      "outputs": [
        {
          "output_type": "stream",
          "name": "stdout",
          "text": [
            "Model: \"sequential\"\n",
            "_________________________________________________________________\n",
            " Layer (type)                Output Shape              Param #   \n",
            "=================================================================\n",
            " embedding (Embedding)       (64, None, 256)           25088     \n",
            "                                                                 \n",
            " gru (GRU)                   (64, None, 1024)          3938304   \n",
            "                                                                 \n",
            " dense (Dense)               (64, None, 98)            100450    \n",
            "                                                                 \n",
            "=================================================================\n",
            "Total params: 4063842 (15.50 MB)\n",
            "Trainable params: 4063842 (15.50 MB)\n",
            "Non-trainable params: 0 (0.00 Byte)\n",
            "_________________________________________________________________\n"
          ]
        }
      ]
    },
    {
      "cell_type": "markdown",
      "metadata": {
        "id": "RkA5upJIJ7W7"
      },
      "source": [
        "A modell minden egyes karakterhez megnézi a beágyazást, lefuttatja a GRU-t egy időlépést a beágyazással, és a sűrű réteget alkalmazza a következő karakter logaritmusát előrejelző logaritmusok létrehozására:\n",
        "\n",
        "![A drawing of the data passing through the model](https://github.com/tensorflow/text/blob/master/docs/tutorials/images/text_generation_training.png?raw=1)"
      ]
    },
    {
      "cell_type": "markdown",
      "metadata": {
        "id": "gKbfm04amhXk"
      },
      "source": [
        "Megjegyzés: A képzéshez használhat egy `keras.Sequential` modellt. A későbbi szöveggeneráláshoz az RNN belső állapotát kell majd kezelned. Egyszerűbb előre felvenni az állapot bemeneti és kimeneti beállításait, mint később átrendezni a modell architektúráját. További részletekért lásd a [Keras RNN útmutató](https://www.tensorflow.org/guide/keras/rnn#rnn_state_reuse)."
      ]
    },
    {
      "cell_type": "markdown",
      "metadata": {
        "id": "-ubPo0_9Prjb"
      },
      "source": [
        "## Próbálja ki a modellt\n",
        "\n",
        "Most futtassa a modellt, hogy lássa, a várakozásoknak megfelelően viselkedik-e.\n",
        "\n",
        "Először ellenőrizze a kimenet alakját:"
      ]
    },
    {
      "cell_type": "code",
      "execution_count": null,
      "metadata": {
        "id": "C-_70kKAPrPU",
        "outputId": "3b63f94e-77ea-4ece-e9f8-f7a43ad452e6",
        "colab": {
          "base_uri": "https://localhost:8080/"
        }
      },
      "outputs": [
        {
          "output_type": "stream",
          "name": "stdout",
          "text": [
            "(64, 100, 98) # (batch_size, sequence_length, vocab_size)\n"
          ]
        }
      ],
      "source": [
        "for input_example_batch, target_example_batch in dataset.take(1):\n",
        "  example_batch_predictions = model(input_example_batch)\n",
        "  print(example_batch_predictions.shape, \"# (batch_size, sequence_length, vocab_size)\")"
      ]
    },
    {
      "cell_type": "markdown",
      "metadata": {
        "id": "Q6NzLBi4VM4o"
      },
      "source": [
        "A fenti példában a bemenet szekvencia hossza \"100\", de a modell bármilyen hosszúságú bemenettel futtatható:"
      ]
    },
    {
      "cell_type": "code",
      "execution_count": null,
      "metadata": {
        "id": "vPGmAAXmVLGC",
        "outputId": "72c32616-1775-44c6-b8a0-a5cba57160b4",
        "colab": {
          "base_uri": "https://localhost:8080/"
        }
      },
      "outputs": [
        {
          "output_type": "stream",
          "name": "stdout",
          "text": [
            "Model: \"sequential\"\n",
            "_________________________________________________________________\n",
            " Layer (type)                Output Shape              Param #   \n",
            "=================================================================\n",
            " embedding (Embedding)       (64, None, 256)           25088     \n",
            "                                                                 \n",
            " gru (GRU)                   (64, None, 1024)          3938304   \n",
            "                                                                 \n",
            " dense (Dense)               (64, None, 98)            100450    \n",
            "                                                                 \n",
            "=================================================================\n",
            "Total params: 4063842 (15.50 MB)\n",
            "Trainable params: 4063842 (15.50 MB)\n",
            "Non-trainable params: 0 (0.00 Byte)\n",
            "_________________________________________________________________\n"
          ]
        }
      ],
      "source": [
        "model.summary()"
      ]
    },
    {
      "cell_type": "markdown",
      "metadata": {
        "id": "uwv0gEkURfx1"
      },
      "source": [
        "Ahhoz, hogy tényleges előrejelzéseket kapjunk a modellből, mintát kell vennünk a kimeneti eloszlásból, hogy megkapjuk a tényleges karakterindexeket. Ezt az eloszlást a karakterszókincs logaritmusai határozzák meg.\n",
        "\n",
        "Megjegyzés: Fontos, hogy ebből az eloszlásból _mintavételezzünk_, mivel az eloszlás _argmax_ értékét véve a modell könnyen hurokba kerülhet.\n",
        "\n",
        "Próbáljuk ki a tétel első példájánál:"
      ]
    },
    {
      "cell_type": "code",
      "execution_count": null,
      "metadata": {
        "id": "4V4MfFg0RQJg"
      },
      "outputs": [],
      "source": [
        "sampled_indices = tf.random.categorical(example_batch_predictions[0], num_samples=1) #Véletlenszerűen mintát vesz egy kategorikus eloszlásból\n",
        "sampled_indices = tf.squeeze(sampled_indices,axis=-1).numpy() #Eltávolítja a felesleges dimenziót"
      ]
    },
    {
      "cell_type": "markdown",
      "metadata": {
        "id": "QM1Vbxs_URw5"
      },
      "source": [
        "Ez minden egyes időlépésnél megadja a következő karakterindex előrejelzését:"
      ]
    },
    {
      "cell_type": "code",
      "execution_count": null,
      "metadata": {
        "id": "YqFMUQc_UFgM",
        "outputId": "5e14377a-205c-4804-c157-b384a0a93a5d",
        "colab": {
          "base_uri": "https://localhost:8080/"
        }
      },
      "outputs": [
        {
          "output_type": "execute_result",
          "data": {
            "text/plain": [
              "array([90, 80, 45,  1, 67, 10, 18, 86, 23, 83, 42, 49, 81, 69, 38, 72,  9,\n",
              "       83, 50, 77, 57, 86, 72, 59, 25, 83,  4, 47, 96, 45, 76,  4, 59, 68,\n",
              "       55, 66, 26, 30, 50, 58, 87, 54, 86, 33,  1, 49, 62, 87, 79, 15, 91,\n",
              "       38, 72, 43, 67,  4, 12, 75, 70, 59, 87, 69, 97, 40, 22, 64, 15, 65,\n",
              "       45, 24, 54, 13, 61,  4, 31, 74,  6, 70, 75,  0, 94, 33, 94, 85,  2,\n",
              "       60,  4,  6,  3, 86, 20, 37, 93, 94, 16, 42, 69, 78, 95, 11])"
            ]
          },
          "metadata": {},
          "execution_count": 25
        }
      ],
      "source": [
        "sampled_indices"
      ]
    },
    {
      "cell_type": "markdown",
      "metadata": {
        "id": "LfLtsP3mUhCG"
      },
      "source": [
        "Dekódolja ezeket, hogy lássa a nem képzett modell által megjósolt szöveget:"
      ]
    },
    {
      "cell_type": "code",
      "execution_count": null,
      "metadata": {
        "id": "xWcFwPwLSo05",
        "outputId": "b2178d90-af94-4ed2-cafe-b2d05194d973",
        "colab": {
          "base_uri": "https://localhost:8080/"
        }
      },
      "outputs": [
        {
          "output_type": "stream",
          "name": "stdout",
          "text": [
            "Input: \n",
            " ' Mit gondol?... Lehetséges az, hogy egy megölt ember visszatérjen?!\\n- Ha nem én öltem meg, akkor leh'\n",
            "\n",
            "Next Char Predictions: \n",
            " 'őÜY u19öBéVcàwRz0édÓközmDé)a”YÍ)mvitEIdlúhöL cpúÚ6ŰRzWu)3Éxmúw\\ufeffTAr6sYCh4o)JÁ,xÉ\\n’L’ó!n),(ö;P‑’7VwÖ“2'\n"
          ]
        }
      ],
      "source": [
        "print(\"Input: \\n\", repr(\"\".join(idx2char[input_example_batch[0]])))\n",
        "print()\n",
        "print(\"Next Char Predictions: \\n\", repr(\"\".join(idx2char[sampled_indices ])))"
      ]
    },
    {
      "cell_type": "markdown",
      "metadata": {
        "id": "LJL0Q0YPY6Ee"
      },
      "source": [
        "## A modell betanítása"
      ]
    },
    {
      "cell_type": "markdown",
      "metadata": {
        "id": "YCbHQHiaa4Ic"
      },
      "source": [
        "Ezen a ponton a probléma egy szokásos osztályozási problémaként kezelhető. Az előző RNN-állapot és a bemeneti adatok ismeretében ebben az időlépésben meg kell jósolni a következő karakter osztályát."
      ]
    },
    {
      "cell_type": "markdown",
      "metadata": {
        "id": "trpqTWyvk0nr"
      },
      "source": [
        "### Csatoljunk egy optimalizálót és egy veszteségfüggvényt."
      ]
    },
    {
      "cell_type": "markdown",
      "metadata": {
        "id": "UAjbjY03eiQ4"
      },
      "source": [
        "A szabványos `tf.keras.losses.sparse_categorical_crossentropy` veszteségfüggvény ebben az esetben működik, mivel az előrejelzések utolsó dimenziójára alkalmazzák.\n",
        "\n",
        "Mivel a modelled logitokat ad vissza, be kell állítanod a `from_logits` flaget.\n"
      ]
    },
    {
      "cell_type": "code",
      "execution_count": null,
      "metadata": {
        "id": "ZOeWdgxNFDXq"
      },
      "outputs": [],
      "source": [
        "loss = tf.losses.SparseCategoricalCrossentropy(from_logits=True)"
      ]
    },
    {
      "cell_type": "code",
      "execution_count": null,
      "metadata": {
        "id": "4HrXTACTdzY-",
        "outputId": "560e43c5-93f4-4b90-82ed-1f5570a1caa5",
        "colab": {
          "base_uri": "https://localhost:8080/"
        }
      },
      "outputs": [
        {
          "output_type": "stream",
          "name": "stdout",
          "text": [
            "Prediction shape:  (64, 100, 98)  # (batch_size, sequence_length, vocab_size)\n",
            "Mean loss:         tf.Tensor(4.586007, shape=(), dtype=float32)\n"
          ]
        }
      ],
      "source": [
        "example_batch_mean_loss = loss(target_example_batch, example_batch_predictions)\n",
        "print(\"Prediction shape: \", example_batch_predictions.shape, \" # (batch_size, sequence_length, vocab_size)\")\n",
        "print(\"Mean loss:        \", example_batch_mean_loss)"
      ]
    },
    {
      "cell_type": "markdown",
      "metadata": {
        "id": "vkvUIneTFiow"
      },
      "source": [
        "Egy újonnan inicializált modellnek nem szabad túlságosan biztosnak lennie önmagában, a kimeneti logaritmusoknak mind hasonló nagyságúnak kell lenniük. Ennek megerősítésére ellenőrizheti, hogy az átlagos veszteség exponenciálisa megközelítőleg megegyezik-e a szókincs méretével. Egy sokkal nagyobb veszteség azt jelenti, hogy a modell biztos a rossz válaszaiban, és rosszul van inicializálva:"
      ]
    },
    {
      "cell_type": "code",
      "execution_count": null,
      "metadata": {
        "id": "MAJfS5YoFiHf",
        "outputId": "1b912e1e-8450-4ca7-bdd8-bda824d38f48",
        "colab": {
          "base_uri": "https://localhost:8080/"
        }
      },
      "outputs": [
        {
          "output_type": "execute_result",
          "data": {
            "text/plain": [
              "98.10194"
            ]
          },
          "metadata": {},
          "execution_count": 29
        }
      ],
      "source": [
        "tf.exp(example_batch_mean_loss).numpy()"
      ]
    },
    {
      "cell_type": "markdown",
      "metadata": {
        "id": "jeOXriLcymww"
      },
      "source": [
        "Konfigurálja a képzési eljárást az `tf.keras.Model.compile` módszerrel. Használja az `tf.keras.optimizers.Adam` modellt alapértelmezett argumentumokkal és a veszteségfüggvényt."
      ]
    },
    {
      "cell_type": "code",
      "execution_count": null,
      "metadata": {
        "id": "DDl1_Een6rL0"
      },
      "outputs": [],
      "source": [
        "model.compile(optimizer='adam', loss=loss)"
      ]
    },
    {
      "cell_type": "markdown",
      "metadata": {
        "id": "ieSJdchZggUj"
      },
      "source": [
        "### Ellenőrző pontok konfigurálása"
      ]
    },
    {
      "cell_type": "markdown",
      "metadata": {
        "id": "C6XBUUavgF56"
      },
      "source": [
        "A`tf.keras.callbacks.ModelCheckpoint` használatával biztosíthatja, hogy az ellenőrzési pontok a képzés során mentésre kerüljenek:"
      ]
    },
    {
      "cell_type": "code",
      "execution_count": null,
      "metadata": {
        "id": "W6fWTriUZP-n"
      },
      "outputs": [],
      "source": [
        "# Directory where the checkpoints will be saved\n",
        "checkpoint_dir = './training_checkpoints'\n",
        "# Name of the checkpoint files\n",
        "checkpoint_prefix = os.path.join(checkpoint_dir, \"ckpt_{epoch}\")\n",
        "\n",
        "checkpoint_callback = tf.keras.callbacks.ModelCheckpoint(\n",
        "    filepath=checkpoint_prefix,\n",
        "    save_weights_only=True)"
      ]
    },
    {
      "cell_type": "markdown",
      "metadata": {
        "id": "3Ky3F_BhgkTW"
      },
      "source": [
        "### A képzés elvégzése"
      ]
    },
    {
      "cell_type": "markdown",
      "metadata": {
        "id": "IxdOA-rgyGvs"
      },
      "source": [
        "A képzési idő ésszerűségének megőrzése érdekében használjon 10 epochát a modell képzéséhez. A Colabban a gyorsabb képzés érdekében állítsa a futási időt GPU-ra."
      ]
    },
    {
      "cell_type": "code",
      "execution_count": null,
      "metadata": {
        "id": "7yGBE2zxMMHs"
      },
      "outputs": [],
      "source": [
        "EPOCHS = 100"
      ]
    },
    {
      "cell_type": "code",
      "execution_count": null,
      "metadata": {
        "id": "UK-hmKjYVoll",
        "outputId": "0cb08fed-cb61-4e68-ebcc-1177d729c99e",
        "colab": {
          "base_uri": "https://localhost:8080/"
        }
      },
      "outputs": [
        {
          "output_type": "stream",
          "name": "stdout",
          "text": [
            "Epoch 1/100\n",
            "49/49 [==============================] - 8s 67ms/step - loss: 3.5581\n",
            "Epoch 2/100\n",
            "49/49 [==============================] - 4s 62ms/step - loss: 2.6558\n",
            "Epoch 3/100\n",
            "49/49 [==============================] - 4s 57ms/step - loss: 2.4400\n",
            "Epoch 4/100\n",
            "49/49 [==============================] - 3s 58ms/step - loss: 2.3210\n",
            "Epoch 5/100\n",
            "49/49 [==============================] - 4s 58ms/step - loss: 2.2171\n",
            "Epoch 6/100\n",
            "49/49 [==============================] - 3s 57ms/step - loss: 2.1154\n",
            "Epoch 7/100\n",
            "49/49 [==============================] - 3s 58ms/step - loss: 2.0149\n",
            "Epoch 8/100\n",
            "49/49 [==============================] - 3s 59ms/step - loss: 1.9200\n",
            "Epoch 9/100\n",
            "49/49 [==============================] - 4s 59ms/step - loss: 1.8315\n",
            "Epoch 10/100\n",
            "49/49 [==============================] - 3s 58ms/step - loss: 1.7492\n",
            "Epoch 11/100\n",
            "49/49 [==============================] - 3s 59ms/step - loss: 1.6777\n",
            "Epoch 12/100\n",
            "49/49 [==============================] - 3s 60ms/step - loss: 1.6069\n",
            "Epoch 13/100\n",
            "49/49 [==============================] - 3s 58ms/step - loss: 1.5459\n",
            "Epoch 14/100\n",
            "49/49 [==============================] - 3s 57ms/step - loss: 1.4852\n",
            "Epoch 15/100\n",
            "49/49 [==============================] - 4s 58ms/step - loss: 1.4256\n",
            "Epoch 16/100\n",
            "49/49 [==============================] - 3s 57ms/step - loss: 1.3689\n",
            "Epoch 17/100\n",
            "49/49 [==============================] - 3s 56ms/step - loss: 1.3114\n",
            "Epoch 18/100\n",
            "49/49 [==============================] - 4s 59ms/step - loss: 1.2543\n",
            "Epoch 19/100\n",
            "49/49 [==============================] - 3s 57ms/step - loss: 1.1948\n",
            "Epoch 20/100\n",
            "49/49 [==============================] - 3s 56ms/step - loss: 1.1343\n",
            "Epoch 21/100\n",
            "49/49 [==============================] - 4s 57ms/step - loss: 1.0741\n",
            "Epoch 22/100\n",
            "49/49 [==============================] - 3s 57ms/step - loss: 1.0108\n",
            "Epoch 23/100\n",
            "49/49 [==============================] - 3s 57ms/step - loss: 0.9497\n",
            "Epoch 24/100\n",
            "49/49 [==============================] - 4s 57ms/step - loss: 0.8821\n",
            "Epoch 25/100\n",
            "49/49 [==============================] - 3s 58ms/step - loss: 0.8181\n",
            "Epoch 26/100\n",
            "49/49 [==============================] - 3s 57ms/step - loss: 0.7586\n",
            "Epoch 27/100\n",
            "49/49 [==============================] - 3s 59ms/step - loss: 0.6999\n",
            "Epoch 28/100\n",
            "49/49 [==============================] - 4s 59ms/step - loss: 0.6418\n",
            "Epoch 29/100\n",
            "49/49 [==============================] - 3s 58ms/step - loss: 0.5903\n",
            "Epoch 30/100\n",
            "49/49 [==============================] - 4s 61ms/step - loss: 0.5447\n",
            "Epoch 31/100\n",
            "49/49 [==============================] - 3s 58ms/step - loss: 0.5015\n",
            "Epoch 32/100\n",
            "49/49 [==============================] - 3s 57ms/step - loss: 0.4675\n",
            "Epoch 33/100\n",
            "49/49 [==============================] - 3s 58ms/step - loss: 0.4333\n",
            "Epoch 34/100\n",
            "49/49 [==============================] - 4s 58ms/step - loss: 0.4047\n",
            "Epoch 35/100\n",
            "49/49 [==============================] - 3s 57ms/step - loss: 0.3822\n",
            "Epoch 36/100\n",
            "49/49 [==============================] - 3s 57ms/step - loss: 0.3643\n",
            "Epoch 37/100\n",
            "49/49 [==============================] - 4s 57ms/step - loss: 0.3469\n",
            "Epoch 38/100\n",
            "49/49 [==============================] - 3s 57ms/step - loss: 0.3330\n",
            "Epoch 39/100\n",
            "49/49 [==============================] - 3s 58ms/step - loss: 0.3211\n",
            "Epoch 40/100\n",
            "49/49 [==============================] - 4s 56ms/step - loss: 0.3116\n",
            "Epoch 41/100\n",
            "49/49 [==============================] - 3s 56ms/step - loss: 0.3044\n",
            "Epoch 42/100\n",
            "49/49 [==============================] - 3s 58ms/step - loss: 0.2975\n",
            "Epoch 43/100\n",
            "49/49 [==============================] - 3s 57ms/step - loss: 0.2887\n",
            "Epoch 44/100\n",
            "49/49 [==============================] - 3s 57ms/step - loss: 0.2817\n",
            "Epoch 45/100\n",
            "49/49 [==============================] - 3s 58ms/step - loss: 0.2801\n",
            "Epoch 46/100\n",
            "49/49 [==============================] - 4s 57ms/step - loss: 0.2753\n",
            "Epoch 47/100\n",
            "49/49 [==============================] - 3s 57ms/step - loss: 0.2711\n",
            "Epoch 48/100\n",
            "49/49 [==============================] - 3s 58ms/step - loss: 0.2677\n",
            "Epoch 49/100\n",
            "49/49 [==============================] - 3s 58ms/step - loss: 0.2624\n",
            "Epoch 50/100\n",
            "49/49 [==============================] - 3s 57ms/step - loss: 0.2588\n",
            "Epoch 51/100\n",
            "49/49 [==============================] - 3s 58ms/step - loss: 0.2583\n",
            "Epoch 52/100\n",
            "49/49 [==============================] - 3s 58ms/step - loss: 0.2536\n",
            "Epoch 53/100\n",
            "49/49 [==============================] - 3s 57ms/step - loss: 0.2517\n",
            "Epoch 54/100\n",
            "49/49 [==============================] - 3s 59ms/step - loss: 0.2509\n",
            "Epoch 55/100\n",
            "49/49 [==============================] - 3s 57ms/step - loss: 0.2480\n",
            "Epoch 56/100\n",
            "49/49 [==============================] - 3s 57ms/step - loss: 0.2455\n",
            "Epoch 57/100\n",
            "49/49 [==============================] - 3s 58ms/step - loss: 0.2453\n",
            "Epoch 58/100\n",
            "49/49 [==============================] - 4s 58ms/step - loss: 0.2446\n",
            "Epoch 59/100\n",
            "49/49 [==============================] - 3s 57ms/step - loss: 0.2414\n",
            "Epoch 60/100\n",
            "49/49 [==============================] - 3s 56ms/step - loss: 0.2407\n",
            "Epoch 61/100\n",
            "49/49 [==============================] - 4s 57ms/step - loss: 0.2379\n",
            "Epoch 62/100\n",
            "49/49 [==============================] - 3s 56ms/step - loss: 0.2377\n",
            "Epoch 63/100\n",
            "49/49 [==============================] - 3s 56ms/step - loss: 0.2361\n",
            "Epoch 64/100\n",
            "49/49 [==============================] - 3s 56ms/step - loss: 0.2339\n",
            "Epoch 65/100\n",
            "49/49 [==============================] - 3s 56ms/step - loss: 0.2335\n",
            "Epoch 66/100\n",
            "49/49 [==============================] - 3s 57ms/step - loss: 0.2349\n",
            "Epoch 67/100\n",
            "49/49 [==============================] - 4s 57ms/step - loss: 0.2323\n",
            "Epoch 68/100\n",
            "49/49 [==============================] - 3s 56ms/step - loss: 0.2313\n",
            "Epoch 69/100\n",
            "49/49 [==============================] - 3s 57ms/step - loss: 0.2327\n",
            "Epoch 70/100\n",
            "49/49 [==============================] - 3s 57ms/step - loss: 0.2294\n",
            "Epoch 71/100\n",
            "49/49 [==============================] - 3s 57ms/step - loss: 0.2294\n",
            "Epoch 72/100\n",
            "49/49 [==============================] - 3s 57ms/step - loss: 0.2303\n",
            "Epoch 73/100\n",
            "49/49 [==============================] - 3s 58ms/step - loss: 0.2294\n",
            "Epoch 74/100\n",
            "49/49 [==============================] - 4s 57ms/step - loss: 0.2268\n",
            "Epoch 75/100\n",
            "49/49 [==============================] - 3s 57ms/step - loss: 0.2285\n",
            "Epoch 76/100\n",
            "49/49 [==============================] - 3s 57ms/step - loss: 0.2301\n",
            "Epoch 77/100\n",
            "49/49 [==============================] - 4s 58ms/step - loss: 0.2267\n",
            "Epoch 78/100\n",
            "49/49 [==============================] - 3s 57ms/step - loss: 0.2272\n",
            "Epoch 79/100\n",
            "49/49 [==============================] - 3s 57ms/step - loss: 0.2265\n",
            "Epoch 80/100\n",
            "49/49 [==============================] - 4s 57ms/step - loss: 0.2247\n",
            "Epoch 81/100\n",
            "49/49 [==============================] - 3s 58ms/step - loss: 0.2245\n",
            "Epoch 82/100\n",
            "49/49 [==============================] - 3s 57ms/step - loss: 0.2254\n",
            "Epoch 83/100\n",
            "49/49 [==============================] - 3s 58ms/step - loss: 0.2246\n",
            "Epoch 84/100\n",
            "49/49 [==============================] - 3s 57ms/step - loss: 0.2260\n",
            "Epoch 85/100\n",
            "49/49 [==============================] - 3s 57ms/step - loss: 0.2247\n",
            "Epoch 86/100\n",
            "49/49 [==============================] - 4s 57ms/step - loss: 0.2229\n",
            "Epoch 87/100\n",
            "49/49 [==============================] - 3s 58ms/step - loss: 0.2204\n",
            "Epoch 88/100\n",
            "49/49 [==============================] - 3s 58ms/step - loss: 0.2217\n",
            "Epoch 89/100\n",
            "49/49 [==============================] - 4s 57ms/step - loss: 0.2217\n",
            "Epoch 90/100\n",
            "49/49 [==============================] - 3s 58ms/step - loss: 0.2245\n",
            "Epoch 91/100\n",
            "49/49 [==============================] - 3s 57ms/step - loss: 0.2232\n",
            "Epoch 92/100\n",
            "49/49 [==============================] - 3s 58ms/step - loss: 0.2241\n",
            "Epoch 93/100\n",
            "49/49 [==============================] - 3s 57ms/step - loss: 0.2205\n",
            "Epoch 94/100\n",
            "49/49 [==============================] - 3s 60ms/step - loss: 0.2215\n",
            "Epoch 95/100\n",
            "49/49 [==============================] - 4s 57ms/step - loss: 0.2214\n",
            "Epoch 96/100\n",
            "49/49 [==============================] - 3s 57ms/step - loss: 0.2200\n",
            "Epoch 97/100\n",
            "49/49 [==============================] - 3s 58ms/step - loss: 0.2196\n",
            "Epoch 98/100\n",
            "49/49 [==============================] - 4s 58ms/step - loss: 0.2194\n",
            "Epoch 99/100\n",
            "49/49 [==============================] - 3s 57ms/step - loss: 0.2190\n",
            "Epoch 100/100\n",
            "49/49 [==============================] - 3s 57ms/step - loss: 0.2203\n"
          ]
        }
      ],
      "source": [
        "history = model.fit(dataset, epochs=EPOCHS, callbacks=[checkpoint_callback])"
      ]
    },
    {
      "cell_type": "code",
      "source": [
        "tf.train.latest_checkpoint(checkpoint_dir)"
      ],
      "metadata": {
        "id": "m4PfNfB78ZMv",
        "colab": {
          "base_uri": "https://localhost:8080/",
          "height": 36
        },
        "outputId": "8d03b19c-0b57-4db0-c98d-32efbcf19f31"
      },
      "execution_count": null,
      "outputs": [
        {
          "output_type": "execute_result",
          "data": {
            "text/plain": [
              "'./training_checkpoints/ckpt_100'"
            ],
            "application/vnd.google.colaboratory.intrinsic+json": {
              "type": "string"
            }
          },
          "metadata": {},
          "execution_count": 34
        }
      ]
    },
    {
      "cell_type": "markdown",
      "source": [
        "Hogy ez az előrejelzési lépés egyszerű legyen, használjon 1 tételméretet.\n",
        "\n",
        "Mivel az RNN állapota időlépésről időlépésre kerül átadásra, a modell csak egy fix kötegméretet fogad el\n",
        "\n",
        "Ha a modellt más batch_mérettel szeretnénk futtatni, újra kell építenünk a modellt, és vissza kell állítanunk a súlyokat az ellenőrzőpontból."
      ],
      "metadata": {
        "id": "_Z1WXoJd8rF4"
      }
    },
    {
      "cell_type": "code",
      "source": [
        "model = build_model(vocab_size, embedding_dim, rnn_units, batch_size=1)\n",
        "\n",
        "model.load_weights(tf.train.latest_checkpoint(checkpoint_dir))\n",
        "\n",
        "model.build(tf.TensorShape([1, None]))"
      ],
      "metadata": {
        "id": "McHwL99q8apA"
      },
      "execution_count": null,
      "outputs": []
    },
    {
      "cell_type": "markdown",
      "metadata": {
        "id": "kKkD5M6eoSiN"
      },
      "source": [
        "## Szöveg generálása"
      ]
    },
    {
      "cell_type": "markdown",
      "metadata": {
        "id": "oIdQ8c8NvMzV"
      },
      "source": [
        "A legegyszerűbben úgy generálhatsz szöveget ezzel a modellel, ha egy ciklusban futtatod, és a végrehajtás során nyomon követed a modell belső állapotát.\n",
        "\n",
        "![A szöveg generálásához a modell kimenete visszakerül a bemenetre](https://github.com/tensorflow/text/blob/master/docs/tutorials/images/text_generation_sampling.png?raw=1)\n",
        "\n",
        "A modell minden egyes meghívásakor átadunk egy szöveget és egy belső állapotot. A modell a következő karakterre vonatkozó előrejelzést és annak új állapotát adja vissza. A szöveggenerálás folytatásához adja vissza a predikciót és az állapotot.\n"
      ]
    },
    {
      "cell_type": "markdown",
      "metadata": {
        "id": "DjGz1tDkzf-u"
      },
      "source": [
        "Az alábbiakban egylépéses előrejelzést teszünk:"
      ]
    },
    {
      "cell_type": "markdown",
      "metadata": {
        "id": "p9yDoa0G3IgQ"
      },
      "source": [
        "Futtassa le egy ciklusban, hogy létrehozzon egy szöveget. Ha megnézzük a generált szöveget, láthatjuk, hogy a modell tudja, mikor kell nagybetűvel írni, bekezdéseket alkotni, és Rejtő-szerű írásszókincset utánoz. A kevés gyakorló epocha miatt még nem tanulta meg, hogy összefüggő mondatokat alkosson.\n",
        "\n",
        "A kezdő karakterlánc kiválasztásával, az RNN állapotának inicializálásával és a létrehozandó karakterek számának beállításával kezdődik.\n",
        "\n",
        "Megszerzi a következő karakter előrejelzési eloszlását a kezdő karakterlánc és az RNN állapot felhasználásával.\n",
        "\n",
        "Ezután egy kategorikus eloszlás segítségével kiszámítja a megjósolt karakter indexét. Használjuk ezt a megjósolt karaktert a modell következő bemeneteként.\n",
        "\n",
        "A modell által visszaküldött RNN-állapotot visszatápláljuk a modellbe, így az most már több kontextussal rendelkezik, nem csak egy karakterrel. A következő karakter előrejelzése után a módosított RNN-állapotokat ismét visszatápláljuk a modellbe, így az tanul, mivel több kontextust kap a korábban megjósolt karakterekből.\n"
      ]
    },
    {
      "cell_type": "code",
      "source": [
        "def generate_text(model, start_string):\n",
        "\n",
        "    num_generate = 1000\n",
        "    input_eval = [char2idx[s] for s in start_string]\n",
        "    input_eval = tf.expand_dims(input_eval, 0)\n",
        "\n",
        "\n",
        "    text_generated = []\n",
        "\n",
        "    temperature = 1.0\n",
        "\n",
        "    model.reset_states()\n",
        "    for i in range(num_generate):\n",
        "        predictions = model(input_eval)\n",
        "        predictions = tf.squeeze(predictions, 0) #1-es dimenziókat eltávolítja\n",
        "        predictions = predictions / temperature\n",
        "        predicted_id = tf.random.categorical(predictions, num_samples=1)[-1,0].numpy()\n",
        "\n",
        "        input_eval = tf.expand_dims([predicted_id], 0)\n",
        "\n",
        "        text_generated.append(idx2char[predicted_id])\n",
        "\n",
        "    return (start_string + ''.join(text_generated))"
      ],
      "metadata": {
        "id": "Q9-KvnSE0q0L"
      },
      "execution_count": null,
      "outputs": []
    },
    {
      "cell_type": "code",
      "source": [
        "print(generate_text(model, start_string=u\"A\"))"
      ],
      "metadata": {
        "id": "G0s1AX0C0sOQ",
        "colab": {
          "base_uri": "https://localhost:8080/"
        },
        "outputId": "ee8f48cf-4963-4286-9bc0-3c086bc82606"
      },
      "execution_count": null,
      "outputs": [
        {
          "output_type": "stream",
          "name": "stdout",
          "text": [
            "A\n",
            "- Radzeer!\n",
            "Holdvilág Charley valamit a Szárítónakon lengra-táljon.\n",
            "- Nem is szörny... Tompaneppel vagyok? - kérdezte lehangoltan őfelsége, és megnézte magánkal. Később feleslegessé is vált a keresése, mert a herceg a telt idomú, fekete nőkre való hivatkozással.\n",
            "Fernandez régens herceg körül teljesítette, és ezzel, amíg kifülé.\n",
            "Mint a fenékbe mentem egy potyautast jól meg­mérgesíteni.\n",
            "- Igazán?\n",
            "- Igen. Volt egy utast a közelben tartózkodó hajók nevezett.\n",
            "- Helyes miért ahol rántotta. Ha Menasze- Alvarez ellen hirtelen gurultot, raszít valaki olyasmesen néhány csengésű hangon a fiatalember. - Én St. Antonio uralkodó herceg vagyok. Aki madába ül!\n",
            "- Az angol kilég valamit.\n",
            "- Nem kínáltam!\n",
            "- Öten. - Mi új pincér és Hutchins fűtő egyazon ember, akkor engem is kidobnak a csalásért.\n",
            "- Ne szőr Ekmont még maratt és mosolyogva kezet fogott -, megölni, és addig szerettem, amíg elhidegült től fel karján a fiút, mintha pehely lenne.\n",
            "- Ez a fiú üzenettel jött. Börtönbb doboz pincér nes volt a közelb\n"
          ]
        }
      ]
    },
    {
      "cell_type": "markdown",
      "metadata": {
        "id": "AM2Uma_-yVIq"
      },
      "source": [
        "A legegyszerűbb dolog, amit tehetsz az eredmények javítása érdekében, hogy hosszabb ideig edzed (próbáld ki az `EPOCHS = 30`).\n",
        "\n",
        "Kísérletezhet más kezdő stringgel is, megpróbálhat egy másik RNN réteget hozzáadni a modell pontosságának javítása érdekében, vagy beállíthatja a hőmérséklet paramétert, hogy több vagy kevesebb véletlenszerű előrejelzést generáljon."
      ]
    },
    {
      "cell_type": "code",
      "source": [
        "text =[]\n",
        "input_eval = [char2idx[s] for s in 'A']\n",
        "input_eval = tf.expand_dims(input_eval, 0)\n",
        "predictions = model(input_eval)"
      ],
      "metadata": {
        "id": "1rnHlQK5-K_Q"
      },
      "execution_count": null,
      "outputs": []
    },
    {
      "cell_type": "code",
      "source": [
        "predictions = tf.squeeze(predictions, 0)"
      ],
      "metadata": {
        "id": "I-mOOf8j-PaC"
      },
      "execution_count": null,
      "outputs": []
    },
    {
      "cell_type": "code",
      "source": [
        "predictions[0,1]"
      ],
      "metadata": {
        "id": "tJt1WucL-kxn",
        "colab": {
          "base_uri": "https://localhost:8080/"
        },
        "outputId": "27c64427-5b94-4a3e-95d1-677edfdc9e05"
      },
      "execution_count": null,
      "outputs": [
        {
          "output_type": "execute_result",
          "data": {
            "text/plain": [
              "<tf.Tensor: shape=(), dtype=float32, numpy=6.473366>"
            ]
          },
          "metadata": {},
          "execution_count": 40
        }
      ]
    },
    {
      "cell_type": "code",
      "source": [
        "predicted_id = tf.random.categorical(predictions, num_samples=1)[-1,0].numpy()"
      ],
      "metadata": {
        "id": "jBoIIKxr-tME"
      },
      "execution_count": null,
      "outputs": []
    },
    {
      "cell_type": "code",
      "source": [
        "input_eval = tf.expand_dims([predicted_id], 0)\n",
        "text.append(idx2char[predicted_id])"
      ],
      "metadata": {
        "id": "hHpwgt9j_2hx"
      },
      "execution_count": null,
      "outputs": []
    },
    {
      "cell_type": "code",
      "source": [],
      "metadata": {
        "id": "_CfM2ZU0AFkM"
      },
      "execution_count": null,
      "outputs": []
    }
  ],
  "metadata": {
    "accelerator": "GPU",
    "colab": {
      "provenance": [],
      "include_colab_link": true
    },
    "kernelspec": {
      "display_name": "Python 3",
      "name": "python3"
    }
  },
  "nbformat": 4,
  "nbformat_minor": 0
}